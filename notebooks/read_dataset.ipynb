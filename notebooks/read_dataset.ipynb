{
 "metadata": {
  "language_info": {
   "codemirror_mode": {
    "name": "ipython",
    "version": 3
   },
   "file_extension": ".py",
   "mimetype": "text/x-python",
   "name": "python",
   "nbconvert_exporter": "python",
   "pygments_lexer": "ipython3",
   "version": "3.8.8"
  },
  "orig_nbformat": 2,
  "kernelspec": {
   "name": "python388jvsc74a57bd0a4fbba76bf68ca5a9f5e167a8117edde5c76f1bba8c77be44626570bb3a6bb2e",
   "display_name": "Python 3.8.8 64-bit ('base': conda)"
  }
 },
 "nbformat": 4,
 "nbformat_minor": 2,
 "cells": [
  {
   "source": [
    "# Read Database\n",
    "Read and clear data from database."
   ],
   "cell_type": "markdown",
   "metadata": {}
  },
  {
   "source": [
    "## Load dependencies"
   ],
   "cell_type": "markdown",
   "metadata": {}
  },
  {
   "cell_type": "code",
   "execution_count": 1,
   "metadata": {},
   "outputs": [],
   "source": [
    "import pandas as pd\n",
    "import numpy as np"
   ]
  },
  {
   "source": [
    "## Load database and set dtypes"
   ],
   "cell_type": "markdown",
   "metadata": {}
  },
  {
   "cell_type": "code",
   "execution_count": 2,
   "metadata": {},
   "outputs": [],
   "source": [
    "dtypes = {\n",
    "    \"title\": \"string\",\n",
    "    \"location\": \"string\",\n",
    "    \"department\": \"string\",\n",
    "    \"salary_range\": \"string\",\n",
    "    \"company_profile\": \"string\",\n",
    "    \"description\": \"string\",\n",
    "    \"requirements\": \"string\",\n",
    "    \"benefits\": \"string\",\n",
    "    \"telecommuting\": \"category\",\n",
    "    \"has_company_logo\": \"category\",\n",
    "    \"has_questions\": \"category\",\n",
    "    \"employment_type\": \"string\",\n",
    "    \"required_experience\": \"string\",\n",
    "    \"required_education\": \"string\",\n",
    "    \"industry\": \"string\",\n",
    "    \"function\": \"string\",\n",
    "    \"fraudulent\": \"category\"\n",
    "}\n",
    "\n",
    "data = pd.read_csv(\"../src/dataset/fake_job_postings.csv\", index_col=\"job_id\", dtype=dtypes)\n"
   ]
  },
  {
   "source": [
    "## Set categories"
   ],
   "cell_type": "markdown",
   "metadata": {}
  },
  {
   "cell_type": "code",
   "execution_count": 3,
   "metadata": {},
   "outputs": [],
   "source": [
    "categories = {\n",
    "    \"telecommuting\": [\"no\", \"yes\"],\n",
    "    \"has_company_logo\": [\"no\", \"yes\"],\n",
    "    \"has_questions\": [\"no\", \"yes\"],\n",
    "    \"fraudulent\": [\"no\", \"yes\"]\n",
    "}\n",
    "\n",
    "for column, column_categories in categories.items():\n",
    "    data[column].cat.categories = column_categories\n"
   ]
  },
  {
   "source": [
    "## Fill empty values"
   ],
   "cell_type": "markdown",
   "metadata": {}
  },
  {
   "cell_type": "code",
   "execution_count": 4,
   "metadata": {},
   "outputs": [],
   "source": [
    "fillna = {\n",
    "    \"title\": \"Missing\",\n",
    "    \"location\": \"Missing\",\n",
    "    \"department\": \"Missing\",\n",
    "    \"salary_range\": \"Missing\",\n",
    "    \"company_profile\": \"Missing\",\n",
    "    \"description\": \"Missing\",\n",
    "    \"requirements\": \"Missing\",\n",
    "    \"benefits\": \"Missing\",\n",
    "    \"employment_type\": \"Missing\",\n",
    "    \"required_experience\": \"Missing\",\n",
    "    \"required_education\": \"Missing\",\n",
    "    \"industry\": \"Missing\",\n",
    "    \"function\": \"Missing\",\n",
    "}\n",
    "\n",
    "for column, column_fillna in fillna.items():\n",
    "    data[column] = data[column].fillna(column_fillna)\n"
   ]
  },
  {
   "source": [
    "## Drop test column"
   ],
   "cell_type": "markdown",
   "metadata": {}
  },
  {
   "cell_type": "code",
   "execution_count": 10,
   "metadata": {},
   "outputs": [],
   "source": [
    "fraudulent = data[\"fraudulent\"]\n",
    "\n",
    "data = data.drop(\"fraudulent\", axis=\"columns\")\n"
   ]
  },
  {
   "source": [
    "## Display"
   ],
   "cell_type": "markdown",
   "metadata": {}
  },
  {
   "cell_type": "code",
   "execution_count": 11,
   "metadata": {},
   "outputs": [
    {
     "output_type": "execute_result",
     "data": {
      "text/plain": [
       "                                                    title  \\\n",
       "job_id                                                      \n",
       "1                                        Marketing Intern   \n",
       "2               Customer Service - Cloud Video Production   \n",
       "3                 Commissioning Machinery Assistant (CMA)   \n",
       "4                       Account Executive - Washington DC   \n",
       "5                                     Bill Review Manager   \n",
       "...                                                   ...   \n",
       "17876                    Account Director - Distribution    \n",
       "17877                                  Payroll Accountant   \n",
       "17878   Project Cost Control Staff Engineer - Cost Con...   \n",
       "17879                                    Graphic Designer   \n",
       "17880                          Web Application Developers   \n",
       "\n",
       "                    location   department salary_range  \\\n",
       "job_id                                                   \n",
       "1           US, NY, New York    Marketing      Missing   \n",
       "2             NZ, , Auckland      Success      Missing   \n",
       "3              US, IA, Wever      Missing      Missing   \n",
       "4         US, DC, Washington        Sales      Missing   \n",
       "5         US, FL, Fort Worth      Missing      Missing   \n",
       "...                      ...          ...          ...   \n",
       "17876        CA, ON, Toronto        Sales      Missing   \n",
       "17877   US, PA, Philadelphia   Accounting      Missing   \n",
       "17878        US, TX, Houston      Missing      Missing   \n",
       "17879          NG, LA, Lagos      Missing      Missing   \n",
       "17880      NZ, N, Wellington  Engineering      Missing   \n",
       "\n",
       "                                          company_profile  \\\n",
       "job_id                                                      \n",
       "1       We're Food52, and we've created a groundbreaki...   \n",
       "2       90 Seconds, the worlds Cloud Video Production ...   \n",
       "3       Valor Services provides Workforce Solutions th...   \n",
       "4       Our passion for improving quality of life thro...   \n",
       "5       SpotSource Solutions LLC is a Global Human Cap...   \n",
       "...                                                   ...   \n",
       "17876   Vend is looking for some awesome new talent to...   \n",
       "17877   WebLinc is the e-commerce platform and service...   \n",
       "17878   We Provide Full Time Permanent Positions for m...   \n",
       "17879                                             Missing   \n",
       "17880   Vend is looking for some awesome new talent to...   \n",
       "\n",
       "                                              description  \\\n",
       "job_id                                                      \n",
       "1       Food52, a fast-growing, James Beard Award-winn...   \n",
       "2       Organised - Focused - Vibrant - Awesome!Do you...   \n",
       "3       Our client, located in Houston, is actively se...   \n",
       "4       THE COMPANY: ESRI – Environmental Systems Rese...   \n",
       "5       JOB TITLE: Itemization Review ManagerLOCATION:...   \n",
       "...                                                   ...   \n",
       "17876   Just in case this is the first time you’ve vis...   \n",
       "17877   The Payroll Accountant will focus primarily on...   \n",
       "17878   Experienced Project Cost Control Staff Enginee...   \n",
       "17879   Nemsia Studios is looking for an experienced v...   \n",
       "17880   Who are we?Vend is an award winning web based ...   \n",
       "\n",
       "                                             requirements  \\\n",
       "job_id                                                      \n",
       "1       Experience with content management systems a m...   \n",
       "2       What we expect from you:Your key responsibilit...   \n",
       "3       Implement pre-commissioning and commissioning ...   \n",
       "4       EDUCATION: Bachelor’s or Master’s in GIS, busi...   \n",
       "5       QUALIFICATIONS:RN license in the State of Texa...   \n",
       "...                                                   ...   \n",
       "17876   To ace this role you:Will eat comprehensive St...   \n",
       "17877   - B.A. or B.S. in Accounting- Desire to have f...   \n",
       "17878   At least 12 years professional experience.Abil...   \n",
       "17879   1. Must be fluent in the latest versions of Co...   \n",
       "17880   We want to hear from you if:You have an in-dep...   \n",
       "\n",
       "                                                 benefits telecommuting  \\\n",
       "job_id                                                                    \n",
       "1                                                 Missing            no   \n",
       "2       What you will get from usThrough being part of...            no   \n",
       "3                                                 Missing            no   \n",
       "4       Our culture is anything but corporate—we have ...            no   \n",
       "5                                   Full Benefits Offered            no   \n",
       "...                                                   ...           ...   \n",
       "17876   What can you expect from us?We have an open cu...            no   \n",
       "17877   Health &amp; WellnessMedical planPrescription ...            no   \n",
       "17878                                             Missing            no   \n",
       "17879   Competitive salary (compensation will be based...            no   \n",
       "17880                                             Missing            no   \n",
       "\n",
       "       has_company_logo has_questions employment_type required_experience  \\\n",
       "job_id                                                                      \n",
       "1                   yes            no           Other          Internship   \n",
       "2                   yes            no       Full-time      Not Applicable   \n",
       "3                   yes            no         Missing             Missing   \n",
       "4                   yes            no       Full-time    Mid-Senior level   \n",
       "5                   yes           yes       Full-time    Mid-Senior level   \n",
       "...                 ...           ...             ...                 ...   \n",
       "17876               yes           yes       Full-time    Mid-Senior level   \n",
       "17877               yes           yes       Full-time    Mid-Senior level   \n",
       "17878                no            no       Full-time             Missing   \n",
       "17879                no           yes        Contract      Not Applicable   \n",
       "17880               yes           yes       Full-time    Mid-Senior level   \n",
       "\n",
       "       required_education                   industry              function  \n",
       "job_id                                                                      \n",
       "1                 Missing                    Missing             Marketing  \n",
       "2                 Missing  Marketing and Advertising      Customer Service  \n",
       "3                 Missing                    Missing               Missing  \n",
       "4       Bachelor's Degree          Computer Software                 Sales  \n",
       "5       Bachelor's Degree     Hospital & Health Care  Health Care Provider  \n",
       "...                   ...                        ...                   ...  \n",
       "17876             Missing          Computer Software                 Sales  \n",
       "17877   Bachelor's Degree                   Internet   Accounting/Auditing  \n",
       "17878             Missing                    Missing               Missing  \n",
       "17879        Professional             Graphic Design                Design  \n",
       "17880             Missing          Computer Software           Engineering  \n",
       "\n",
       "[17880 rows x 16 columns]"
      ],
      "text/html": "<div>\n<style scoped>\n    .dataframe tbody tr th:only-of-type {\n        vertical-align: middle;\n    }\n\n    .dataframe tbody tr th {\n        vertical-align: top;\n    }\n\n    .dataframe thead th {\n        text-align: right;\n    }\n</style>\n<table border=\"1\" class=\"dataframe\">\n  <thead>\n    <tr style=\"text-align: right;\">\n      <th></th>\n      <th>title</th>\n      <th>location</th>\n      <th>department</th>\n      <th>salary_range</th>\n      <th>company_profile</th>\n      <th>description</th>\n      <th>requirements</th>\n      <th>benefits</th>\n      <th>telecommuting</th>\n      <th>has_company_logo</th>\n      <th>has_questions</th>\n      <th>employment_type</th>\n      <th>required_experience</th>\n      <th>required_education</th>\n      <th>industry</th>\n      <th>function</th>\n    </tr>\n    <tr>\n      <th>job_id</th>\n      <th></th>\n      <th></th>\n      <th></th>\n      <th></th>\n      <th></th>\n      <th></th>\n      <th></th>\n      <th></th>\n      <th></th>\n      <th></th>\n      <th></th>\n      <th></th>\n      <th></th>\n      <th></th>\n      <th></th>\n      <th></th>\n    </tr>\n  </thead>\n  <tbody>\n    <tr>\n      <th>1</th>\n      <td>Marketing Intern</td>\n      <td>US, NY, New York</td>\n      <td>Marketing</td>\n      <td>Missing</td>\n      <td>We're Food52, and we've created a groundbreaki...</td>\n      <td>Food52, a fast-growing, James Beard Award-winn...</td>\n      <td>Experience with content management systems a m...</td>\n      <td>Missing</td>\n      <td>no</td>\n      <td>yes</td>\n      <td>no</td>\n      <td>Other</td>\n      <td>Internship</td>\n      <td>Missing</td>\n      <td>Missing</td>\n      <td>Marketing</td>\n    </tr>\n    <tr>\n      <th>2</th>\n      <td>Customer Service - Cloud Video Production</td>\n      <td>NZ, , Auckland</td>\n      <td>Success</td>\n      <td>Missing</td>\n      <td>90 Seconds, the worlds Cloud Video Production ...</td>\n      <td>Organised - Focused - Vibrant - Awesome!Do you...</td>\n      <td>What we expect from you:Your key responsibilit...</td>\n      <td>What you will get from usThrough being part of...</td>\n      <td>no</td>\n      <td>yes</td>\n      <td>no</td>\n      <td>Full-time</td>\n      <td>Not Applicable</td>\n      <td>Missing</td>\n      <td>Marketing and Advertising</td>\n      <td>Customer Service</td>\n    </tr>\n    <tr>\n      <th>3</th>\n      <td>Commissioning Machinery Assistant (CMA)</td>\n      <td>US, IA, Wever</td>\n      <td>Missing</td>\n      <td>Missing</td>\n      <td>Valor Services provides Workforce Solutions th...</td>\n      <td>Our client, located in Houston, is actively se...</td>\n      <td>Implement pre-commissioning and commissioning ...</td>\n      <td>Missing</td>\n      <td>no</td>\n      <td>yes</td>\n      <td>no</td>\n      <td>Missing</td>\n      <td>Missing</td>\n      <td>Missing</td>\n      <td>Missing</td>\n      <td>Missing</td>\n    </tr>\n    <tr>\n      <th>4</th>\n      <td>Account Executive - Washington DC</td>\n      <td>US, DC, Washington</td>\n      <td>Sales</td>\n      <td>Missing</td>\n      <td>Our passion for improving quality of life thro...</td>\n      <td>THE COMPANY: ESRI – Environmental Systems Rese...</td>\n      <td>EDUCATION: Bachelor’s or Master’s in GIS, busi...</td>\n      <td>Our culture is anything but corporate—we have ...</td>\n      <td>no</td>\n      <td>yes</td>\n      <td>no</td>\n      <td>Full-time</td>\n      <td>Mid-Senior level</td>\n      <td>Bachelor's Degree</td>\n      <td>Computer Software</td>\n      <td>Sales</td>\n    </tr>\n    <tr>\n      <th>5</th>\n      <td>Bill Review Manager</td>\n      <td>US, FL, Fort Worth</td>\n      <td>Missing</td>\n      <td>Missing</td>\n      <td>SpotSource Solutions LLC is a Global Human Cap...</td>\n      <td>JOB TITLE: Itemization Review ManagerLOCATION:...</td>\n      <td>QUALIFICATIONS:RN license in the State of Texa...</td>\n      <td>Full Benefits Offered</td>\n      <td>no</td>\n      <td>yes</td>\n      <td>yes</td>\n      <td>Full-time</td>\n      <td>Mid-Senior level</td>\n      <td>Bachelor's Degree</td>\n      <td>Hospital &amp; Health Care</td>\n      <td>Health Care Provider</td>\n    </tr>\n    <tr>\n      <th>...</th>\n      <td>...</td>\n      <td>...</td>\n      <td>...</td>\n      <td>...</td>\n      <td>...</td>\n      <td>...</td>\n      <td>...</td>\n      <td>...</td>\n      <td>...</td>\n      <td>...</td>\n      <td>...</td>\n      <td>...</td>\n      <td>...</td>\n      <td>...</td>\n      <td>...</td>\n      <td>...</td>\n    </tr>\n    <tr>\n      <th>17876</th>\n      <td>Account Director - Distribution</td>\n      <td>CA, ON, Toronto</td>\n      <td>Sales</td>\n      <td>Missing</td>\n      <td>Vend is looking for some awesome new talent to...</td>\n      <td>Just in case this is the first time you’ve vis...</td>\n      <td>To ace this role you:Will eat comprehensive St...</td>\n      <td>What can you expect from us?We have an open cu...</td>\n      <td>no</td>\n      <td>yes</td>\n      <td>yes</td>\n      <td>Full-time</td>\n      <td>Mid-Senior level</td>\n      <td>Missing</td>\n      <td>Computer Software</td>\n      <td>Sales</td>\n    </tr>\n    <tr>\n      <th>17877</th>\n      <td>Payroll Accountant</td>\n      <td>US, PA, Philadelphia</td>\n      <td>Accounting</td>\n      <td>Missing</td>\n      <td>WebLinc is the e-commerce platform and service...</td>\n      <td>The Payroll Accountant will focus primarily on...</td>\n      <td>- B.A. or B.S. in Accounting- Desire to have f...</td>\n      <td>Health &amp;amp; WellnessMedical planPrescription ...</td>\n      <td>no</td>\n      <td>yes</td>\n      <td>yes</td>\n      <td>Full-time</td>\n      <td>Mid-Senior level</td>\n      <td>Bachelor's Degree</td>\n      <td>Internet</td>\n      <td>Accounting/Auditing</td>\n    </tr>\n    <tr>\n      <th>17878</th>\n      <td>Project Cost Control Staff Engineer - Cost Con...</td>\n      <td>US, TX, Houston</td>\n      <td>Missing</td>\n      <td>Missing</td>\n      <td>We Provide Full Time Permanent Positions for m...</td>\n      <td>Experienced Project Cost Control Staff Enginee...</td>\n      <td>At least 12 years professional experience.Abil...</td>\n      <td>Missing</td>\n      <td>no</td>\n      <td>no</td>\n      <td>no</td>\n      <td>Full-time</td>\n      <td>Missing</td>\n      <td>Missing</td>\n      <td>Missing</td>\n      <td>Missing</td>\n    </tr>\n    <tr>\n      <th>17879</th>\n      <td>Graphic Designer</td>\n      <td>NG, LA, Lagos</td>\n      <td>Missing</td>\n      <td>Missing</td>\n      <td>Missing</td>\n      <td>Nemsia Studios is looking for an experienced v...</td>\n      <td>1. Must be fluent in the latest versions of Co...</td>\n      <td>Competitive salary (compensation will be based...</td>\n      <td>no</td>\n      <td>no</td>\n      <td>yes</td>\n      <td>Contract</td>\n      <td>Not Applicable</td>\n      <td>Professional</td>\n      <td>Graphic Design</td>\n      <td>Design</td>\n    </tr>\n    <tr>\n      <th>17880</th>\n      <td>Web Application Developers</td>\n      <td>NZ, N, Wellington</td>\n      <td>Engineering</td>\n      <td>Missing</td>\n      <td>Vend is looking for some awesome new talent to...</td>\n      <td>Who are we?Vend is an award winning web based ...</td>\n      <td>We want to hear from you if:You have an in-dep...</td>\n      <td>Missing</td>\n      <td>no</td>\n      <td>yes</td>\n      <td>yes</td>\n      <td>Full-time</td>\n      <td>Mid-Senior level</td>\n      <td>Missing</td>\n      <td>Computer Software</td>\n      <td>Engineering</td>\n    </tr>\n  </tbody>\n</table>\n<p>17880 rows × 16 columns</p>\n</div>"
     },
     "metadata": {},
     "execution_count": 11
    }
   ],
   "source": [
    "data"
   ]
  }
 ]
}