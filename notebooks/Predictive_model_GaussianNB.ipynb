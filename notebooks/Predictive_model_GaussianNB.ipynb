{
 "cells": [
  {
   "cell_type": "markdown",
   "metadata": {},
   "source": [
    "# Predictive model\n",
    "\n",
    "Basically, a predictive model is a mathematical function that, applied to a set of data, can identify hidden patterns, and based on those patterns, make predictions. The purpose of machine learning, Machine Learning, is to \"learn\" the approximation of the function that best represents the relationship between the input attributes, predictor variables, with the output variable, which we want to predict.\n",
    "\n",
    "Machine learning algorithms are mostly divided into 3 types: Supervised Learning, Unsupervised Learning and Reinforcement Learning.\n",
    "\n",
    "\n",
    "## The Process\n",
    "\n",
    "In a simplified way, the process for creating a predictive model is composed by the sequence of activities:\n",
    "\n",
    "1. Data Collection;\n",
    "2. Data Exploration and Preparation;\n",
    "3. Model training;\n",
    "4. Model Evaluation;\n",
    "5. Model optimization;\n",
    "\n",
    "These activities are performed iteratively, modifying parameters, organizing data, obtaining new data, testing algorithms, creating new variables, among others, until you have the ideal model to solve the business problem we are working on.\n",
    "\n",
    "\n",
    "## Data Preparation\n",
    "\n",
    "Normally, the creation of the predictive model itself is very fast compared to the time that the data scientist needs to dedicate to prepare the data set, because the data can come from different sources, in different formats, with errors or requiring manipulations. It is up to us to carry out the activities that will ensure that the predictive model correctly receives the input information. The data preparation step, which we did earlier, is extremely important to ensure the accuracy of our model. Taking for granted that bad input data will generate bad outputs, it must be assumed that we should never neglect this step.\n",
    "\n",
    "\n",
    "## Choice of Predictor Variables\n",
    "\n",
    "We will classify our variables into two types:\n",
    "\n",
    "- **Predictor variables**: are the variables that will be used as input to the predictive model;\n",
    "- **Target variables**: these are the variables we want to predict;\n",
    "\n",
    "As previously mentioned, we want to predict the price of accommodation at an airbnb establishment in New York, NY, based on the data set obtained on the Kaggle website. So our target variable is the price column.\n",
    "\n",
    "Our predictor variables will be: neighborhood_group, neighborhood, latitude, longitude, room_type, number_of_reviews, reviews_per_month, calculated_host_listings_count, availability_365\n",
    "\n",
    "\n",
    "## Spliting Training and Testing\n",
    "\n",
    "We should divide our data set into 2 parts, one for training and the other for testing the predictive model. There is no general rule for dividing the data, we will use an 80/20 division (80% of the data for training and 20% of the data for testing). What we need to be aware of is for the separate sample to reliably represent our entire population of data."
   ]
  },
  {
   "cell_type": "markdown",
   "metadata": {},
   "source": [
    "## Import dependencies"
   ]
  },
  {
   "cell_type": "code",
   "execution_count": 2,
   "metadata": {},
   "outputs": [],
   "source": [
    "# pandas - pandas is a fast, powerful, flexible and easy to use open source data analysis and manipulation tool.\n",
    "import pandas as pd\n",
    "\n",
    "# NumPy - The fundamental package for scientific computing.\n",
    "import numpy as np\n",
    "\n",
    "from sklearn.feature_extraction.text import TfidfVectorizer\n",
    "\n",
    "from sklearn.model_selection import train_test_split\n",
    "\n",
    "from sklearn.naive_bayes import GaussianNB\n",
    "\n",
    "from sklearn.metrics import balanced_accuracy_score"
   ]
  },
  {
   "cell_type": "markdown",
   "metadata": {},
   "source": [
    "## Preparation of the Dataset"
   ]
  },
  {
   "cell_type": "code",
   "execution_count": 3,
   "metadata": {},
   "outputs": [],
   "source": [
    "path = \"../src/dataset/fake_job_postings.csv\"\n",
    "index_column = \"job_id\"\n",
    "\n",
    "df = pd.read_csv(path, index_col=index_column)\n",
    "df = df.fillna(\"Missing\")\n",
    "\n",
    "df['Empresa'] = df['title']  + ' ' + df['company_profile'] + ' ' + df['description'] + ' ' + df['requirements'] + ' ' + df['benefits']\n",
    "\n",
    "del df['title']\n",
    "del df['location']\n",
    "del df['company_profile']\n",
    "del df['description']\n",
    "del df['requirements']\n",
    "del df['benefits']\n",
    "del df['salary_range']\n",
    "\n",
    "df['required_experience'] = df['required_experience'].astype('category') \n",
    "required_experience_categories = df['required_experience'].cat.categories\n",
    "df['required_experience'].cat.categories = range(len(required_experience_categories))\n",
    "\n",
    "df['required_experience'] = df['required_experience'].astype('category') \n",
    "required_experience_categories = df['required_experience'].cat.categories\n",
    "df['required_experience'].cat.categories = range(len(required_experience_categories))\n",
    "\n",
    "df['employment_type'] = df['employment_type'].astype('category') \n",
    "employment_type_categories = df['employment_type'].cat.categories\n",
    "df['employment_type'].cat.categories = range(len(employment_type_categories))\n",
    "\n",
    "df['required_education'] = df['required_education'].astype('category') \n",
    "required_education_categories = df['required_education'].cat.categories\n",
    "df['required_education'].cat.categories = range(len(required_education_categories))\n",
    "\n",
    "df['function'] = df['function'].astype('category') \n",
    "function_categories = df['function'].cat.categories\n",
    "df['function'].cat.categories = range(len(function_categories))\n",
    "\n",
    "df['industry'] = df['industry'].astype('category') \n",
    "industry_categories = df['industry'].cat.categories\n",
    "df['industry'].cat.categories = range(len(industry_categories))\n",
    "\n",
    "df['department'] = df['department'].astype('category') \n",
    "department_categories = df['department'].cat.categories\n",
    "df['department'].cat.categories = range(len(department_categories))"
   ]
  },
  {
   "cell_type": "code",
   "execution_count": 4,
   "metadata": {
    "scrolled": true
   },
   "outputs": [
    {
     "output_type": "execute_result",
     "data": {
      "text/plain": [
       "       department  telecommuting  has_company_logo  has_questions  \\\n",
       "job_id                                                              \n",
       "1             758              0                 1              0   \n",
       "2            1162              0                 1              0   \n",
       "3             793              0                 1              0   \n",
       "4            1055              0                 1              0   \n",
       "5             793              0                 1              1   \n",
       "...           ...            ...               ...            ...   \n",
       "17876        1055              0                 1              1   \n",
       "17877          62              0                 1              1   \n",
       "17878         793              0                 0              0   \n",
       "17879         793              0                 0              1   \n",
       "17880         434              0                 1              1   \n",
       "\n",
       "       employment_type required_experience required_education industry  \\\n",
       "job_id                                                                   \n",
       "1                    3                   4                  6       83   \n",
       "2                    1                   7                  6       75   \n",
       "3                    2                   6                  6       83   \n",
       "4                    1                   5                  1       22   \n",
       "5                    1                   5                  1       51   \n",
       "...                ...                 ...                ...      ...   \n",
       "17876                1                   5                  6       22   \n",
       "17877                1                   5                  1       61   \n",
       "17878                1                   6                  6       83   \n",
       "17879                0                   7                  7       48   \n",
       "17880                1                   5                  6       22   \n",
       "\n",
       "       function  fraudulent                                            Empresa  \n",
       "job_id                                                                          \n",
       "1            22           0  Marketing Intern We're Food52, and we've creat...  \n",
       "2             7           0  Customer Service - Cloud Video Production 90 S...  \n",
       "3            23           0  Commissioning Machinery Assistant (CMA) Valor ...  \n",
       "4            32           0  Account Executive - Washington DC Our passion ...  \n",
       "5            16           0  Bill Review Manager SpotSource Solutions LLC i...  \n",
       "...         ...         ...                                                ...  \n",
       "17876        32           0  Account Director - Distribution  Vend is looki...  \n",
       "17877         0           0  Payroll Accountant WebLinc is the e-commerce p...  \n",
       "17878        23           0  Project Cost Control Staff Engineer - Cost Con...  \n",
       "17879         9           0  Graphic Designer Missing Nemsia Studios is loo...  \n",
       "17880        12           0  Web Application Developers Vend is looking for...  \n",
       "\n",
       "[17880 rows x 11 columns]"
      ],
      "text/html": "<div>\n<style scoped>\n    .dataframe tbody tr th:only-of-type {\n        vertical-align: middle;\n    }\n\n    .dataframe tbody tr th {\n        vertical-align: top;\n    }\n\n    .dataframe thead th {\n        text-align: right;\n    }\n</style>\n<table border=\"1\" class=\"dataframe\">\n  <thead>\n    <tr style=\"text-align: right;\">\n      <th></th>\n      <th>department</th>\n      <th>telecommuting</th>\n      <th>has_company_logo</th>\n      <th>has_questions</th>\n      <th>employment_type</th>\n      <th>required_experience</th>\n      <th>required_education</th>\n      <th>industry</th>\n      <th>function</th>\n      <th>fraudulent</th>\n      <th>Empresa</th>\n    </tr>\n    <tr>\n      <th>job_id</th>\n      <th></th>\n      <th></th>\n      <th></th>\n      <th></th>\n      <th></th>\n      <th></th>\n      <th></th>\n      <th></th>\n      <th></th>\n      <th></th>\n      <th></th>\n    </tr>\n  </thead>\n  <tbody>\n    <tr>\n      <th>1</th>\n      <td>758</td>\n      <td>0</td>\n      <td>1</td>\n      <td>0</td>\n      <td>3</td>\n      <td>4</td>\n      <td>6</td>\n      <td>83</td>\n      <td>22</td>\n      <td>0</td>\n      <td>Marketing Intern We're Food52, and we've creat...</td>\n    </tr>\n    <tr>\n      <th>2</th>\n      <td>1162</td>\n      <td>0</td>\n      <td>1</td>\n      <td>0</td>\n      <td>1</td>\n      <td>7</td>\n      <td>6</td>\n      <td>75</td>\n      <td>7</td>\n      <td>0</td>\n      <td>Customer Service - Cloud Video Production 90 S...</td>\n    </tr>\n    <tr>\n      <th>3</th>\n      <td>793</td>\n      <td>0</td>\n      <td>1</td>\n      <td>0</td>\n      <td>2</td>\n      <td>6</td>\n      <td>6</td>\n      <td>83</td>\n      <td>23</td>\n      <td>0</td>\n      <td>Commissioning Machinery Assistant (CMA) Valor ...</td>\n    </tr>\n    <tr>\n      <th>4</th>\n      <td>1055</td>\n      <td>0</td>\n      <td>1</td>\n      <td>0</td>\n      <td>1</td>\n      <td>5</td>\n      <td>1</td>\n      <td>22</td>\n      <td>32</td>\n      <td>0</td>\n      <td>Account Executive - Washington DC Our passion ...</td>\n    </tr>\n    <tr>\n      <th>5</th>\n      <td>793</td>\n      <td>0</td>\n      <td>1</td>\n      <td>1</td>\n      <td>1</td>\n      <td>5</td>\n      <td>1</td>\n      <td>51</td>\n      <td>16</td>\n      <td>0</td>\n      <td>Bill Review Manager SpotSource Solutions LLC i...</td>\n    </tr>\n    <tr>\n      <th>...</th>\n      <td>...</td>\n      <td>...</td>\n      <td>...</td>\n      <td>...</td>\n      <td>...</td>\n      <td>...</td>\n      <td>...</td>\n      <td>...</td>\n      <td>...</td>\n      <td>...</td>\n      <td>...</td>\n    </tr>\n    <tr>\n      <th>17876</th>\n      <td>1055</td>\n      <td>0</td>\n      <td>1</td>\n      <td>1</td>\n      <td>1</td>\n      <td>5</td>\n      <td>6</td>\n      <td>22</td>\n      <td>32</td>\n      <td>0</td>\n      <td>Account Director - Distribution  Vend is looki...</td>\n    </tr>\n    <tr>\n      <th>17877</th>\n      <td>62</td>\n      <td>0</td>\n      <td>1</td>\n      <td>1</td>\n      <td>1</td>\n      <td>5</td>\n      <td>1</td>\n      <td>61</td>\n      <td>0</td>\n      <td>0</td>\n      <td>Payroll Accountant WebLinc is the e-commerce p...</td>\n    </tr>\n    <tr>\n      <th>17878</th>\n      <td>793</td>\n      <td>0</td>\n      <td>0</td>\n      <td>0</td>\n      <td>1</td>\n      <td>6</td>\n      <td>6</td>\n      <td>83</td>\n      <td>23</td>\n      <td>0</td>\n      <td>Project Cost Control Staff Engineer - Cost Con...</td>\n    </tr>\n    <tr>\n      <th>17879</th>\n      <td>793</td>\n      <td>0</td>\n      <td>0</td>\n      <td>1</td>\n      <td>0</td>\n      <td>7</td>\n      <td>7</td>\n      <td>48</td>\n      <td>9</td>\n      <td>0</td>\n      <td>Graphic Designer Missing Nemsia Studios is loo...</td>\n    </tr>\n    <tr>\n      <th>17880</th>\n      <td>434</td>\n      <td>0</td>\n      <td>1</td>\n      <td>1</td>\n      <td>1</td>\n      <td>5</td>\n      <td>6</td>\n      <td>22</td>\n      <td>12</td>\n      <td>0</td>\n      <td>Web Application Developers Vend is looking for...</td>\n    </tr>\n  </tbody>\n</table>\n<p>17880 rows × 11 columns</p>\n</div>"
     },
     "metadata": {},
     "execution_count": 4
    }
   ],
   "source": [
    "df"
   ]
  },
  {
   "cell_type": "code",
   "execution_count": 8,
   "metadata": {},
   "outputs": [
    {
     "output_type": "error",
     "ename": "MemoryError",
     "evalue": "Unable to allocate 13.9 GiB for an array with shape (17880, 104205) and data type float64",
     "traceback": [
      "\u001b[1;31m---------------------------------------------------------------------------\u001b[0m",
      "\u001b[1;31mMemoryError\u001b[0m                               Traceback (most recent call last)",
      "\u001b[1;32m<ipython-input-8-466bc167e059>\u001b[0m in \u001b[0;36m<module>\u001b[1;34m\u001b[0m\n\u001b[0;32m      1\u001b[0m \u001b[0mvectorizer\u001b[0m \u001b[1;33m=\u001b[0m \u001b[0mTfidfVectorizer\u001b[0m\u001b[1;33m(\u001b[0m\u001b[1;33m)\u001b[0m\u001b[1;33m\u001b[0m\u001b[1;33m\u001b[0m\u001b[0m\n\u001b[1;32m----> 2\u001b[1;33m \u001b[0mX\u001b[0m \u001b[1;33m=\u001b[0m \u001b[0mvectorizer\u001b[0m\u001b[1;33m.\u001b[0m\u001b[0mfit_transform\u001b[0m\u001b[1;33m(\u001b[0m\u001b[0mdf\u001b[0m\u001b[1;33m[\u001b[0m\u001b[1;34m'Empresa'\u001b[0m\u001b[1;33m]\u001b[0m\u001b[1;33m)\u001b[0m\u001b[1;33m.\u001b[0m\u001b[0mtoarray\u001b[0m\u001b[1;33m(\u001b[0m\u001b[1;33m)\u001b[0m\u001b[1;33m\u001b[0m\u001b[1;33m\u001b[0m\u001b[0m\n\u001b[0m\u001b[0;32m      3\u001b[0m \u001b[0my\u001b[0m \u001b[1;33m=\u001b[0m \u001b[0mdf\u001b[0m\u001b[1;33m[\u001b[0m\u001b[1;34m\"fraudulent\"\u001b[0m\u001b[1;33m]\u001b[0m\u001b[1;33m\u001b[0m\u001b[1;33m\u001b[0m\u001b[0m\n\u001b[0;32m      4\u001b[0m \u001b[1;33m\u001b[0m\u001b[0m\n\u001b[0;32m      5\u001b[0m \u001b[0mX_train\u001b[0m\u001b[1;33m,\u001b[0m \u001b[0mX_test\u001b[0m\u001b[1;33m,\u001b[0m \u001b[0my_train\u001b[0m\u001b[1;33m,\u001b[0m \u001b[0my_test\u001b[0m \u001b[1;33m=\u001b[0m \u001b[0mtrain_test_split\u001b[0m\u001b[1;33m(\u001b[0m\u001b[0mX\u001b[0m\u001b[1;33m,\u001b[0m \u001b[0my\u001b[0m\u001b[1;33m,\u001b[0m \u001b[0mtest_size\u001b[0m\u001b[1;33m=\u001b[0m\u001b[1;36m0.5\u001b[0m\u001b[1;33m,\u001b[0m \u001b[0mrandom_state\u001b[0m\u001b[1;33m=\u001b[0m\u001b[1;36m0\u001b[0m\u001b[1;33m)\u001b[0m\u001b[1;33m\u001b[0m\u001b[1;33m\u001b[0m\u001b[0m\n",
      "\u001b[1;32m~\\anaconda3\\lib\\site-packages\\scipy\\sparse\\compressed.py\u001b[0m in \u001b[0;36mtoarray\u001b[1;34m(self, order, out)\u001b[0m\n\u001b[0;32m   1023\u001b[0m         \u001b[1;32mif\u001b[0m \u001b[0mout\u001b[0m \u001b[1;32mis\u001b[0m \u001b[1;32mNone\u001b[0m \u001b[1;32mand\u001b[0m \u001b[0morder\u001b[0m \u001b[1;32mis\u001b[0m \u001b[1;32mNone\u001b[0m\u001b[1;33m:\u001b[0m\u001b[1;33m\u001b[0m\u001b[1;33m\u001b[0m\u001b[0m\n\u001b[0;32m   1024\u001b[0m             \u001b[0morder\u001b[0m \u001b[1;33m=\u001b[0m \u001b[0mself\u001b[0m\u001b[1;33m.\u001b[0m\u001b[0m_swap\u001b[0m\u001b[1;33m(\u001b[0m\u001b[1;34m'cf'\u001b[0m\u001b[1;33m)\u001b[0m\u001b[1;33m[\u001b[0m\u001b[1;36m0\u001b[0m\u001b[1;33m]\u001b[0m\u001b[1;33m\u001b[0m\u001b[1;33m\u001b[0m\u001b[0m\n\u001b[1;32m-> 1025\u001b[1;33m         \u001b[0mout\u001b[0m \u001b[1;33m=\u001b[0m \u001b[0mself\u001b[0m\u001b[1;33m.\u001b[0m\u001b[0m_process_toarray_args\u001b[0m\u001b[1;33m(\u001b[0m\u001b[0morder\u001b[0m\u001b[1;33m,\u001b[0m \u001b[0mout\u001b[0m\u001b[1;33m)\u001b[0m\u001b[1;33m\u001b[0m\u001b[1;33m\u001b[0m\u001b[0m\n\u001b[0m\u001b[0;32m   1026\u001b[0m         \u001b[1;32mif\u001b[0m \u001b[1;32mnot\u001b[0m \u001b[1;33m(\u001b[0m\u001b[0mout\u001b[0m\u001b[1;33m.\u001b[0m\u001b[0mflags\u001b[0m\u001b[1;33m.\u001b[0m\u001b[0mc_contiguous\u001b[0m \u001b[1;32mor\u001b[0m \u001b[0mout\u001b[0m\u001b[1;33m.\u001b[0m\u001b[0mflags\u001b[0m\u001b[1;33m.\u001b[0m\u001b[0mf_contiguous\u001b[0m\u001b[1;33m)\u001b[0m\u001b[1;33m:\u001b[0m\u001b[1;33m\u001b[0m\u001b[1;33m\u001b[0m\u001b[0m\n\u001b[0;32m   1027\u001b[0m             \u001b[1;32mraise\u001b[0m \u001b[0mValueError\u001b[0m\u001b[1;33m(\u001b[0m\u001b[1;34m'Output array must be C or F contiguous'\u001b[0m\u001b[1;33m)\u001b[0m\u001b[1;33m\u001b[0m\u001b[1;33m\u001b[0m\u001b[0m\n",
      "\u001b[1;32m~\\anaconda3\\lib\\site-packages\\scipy\\sparse\\base.py\u001b[0m in \u001b[0;36m_process_toarray_args\u001b[1;34m(self, order, out)\u001b[0m\n\u001b[0;32m   1183\u001b[0m             \u001b[1;32mreturn\u001b[0m \u001b[0mout\u001b[0m\u001b[1;33m\u001b[0m\u001b[1;33m\u001b[0m\u001b[0m\n\u001b[0;32m   1184\u001b[0m         \u001b[1;32melse\u001b[0m\u001b[1;33m:\u001b[0m\u001b[1;33m\u001b[0m\u001b[1;33m\u001b[0m\u001b[0m\n\u001b[1;32m-> 1185\u001b[1;33m             \u001b[1;32mreturn\u001b[0m \u001b[0mnp\u001b[0m\u001b[1;33m.\u001b[0m\u001b[0mzeros\u001b[0m\u001b[1;33m(\u001b[0m\u001b[0mself\u001b[0m\u001b[1;33m.\u001b[0m\u001b[0mshape\u001b[0m\u001b[1;33m,\u001b[0m \u001b[0mdtype\u001b[0m\u001b[1;33m=\u001b[0m\u001b[0mself\u001b[0m\u001b[1;33m.\u001b[0m\u001b[0mdtype\u001b[0m\u001b[1;33m,\u001b[0m \u001b[0morder\u001b[0m\u001b[1;33m=\u001b[0m\u001b[0morder\u001b[0m\u001b[1;33m)\u001b[0m\u001b[1;33m\u001b[0m\u001b[1;33m\u001b[0m\u001b[0m\n\u001b[0m\u001b[0;32m   1186\u001b[0m \u001b[1;33m\u001b[0m\u001b[0m\n\u001b[0;32m   1187\u001b[0m \u001b[1;33m\u001b[0m\u001b[0m\n",
      "\u001b[1;31mMemoryError\u001b[0m: Unable to allocate 13.9 GiB for an array with shape (17880, 104205) and data type float64"
     ]
    }
   ],
   "source": [
    "vectorizer = TfidfVectorizer()\n",
    "X = vectorizer.fit_transform(df['Empresa']).toarray()\n",
    "y = df[\"fraudulent\"]\n",
    "\n",
    "X_train, X_test, y_train, y_test = train_test_split(X, y, test_size=0.5, random_state=0)\n",
    "\n",
    "method = GaussianNB()\n",
    "model = method.fit(X_train, y_train)"
   ]
  },
  {
   "cell_type": "code",
   "execution_count": 7,
   "metadata": {},
   "outputs": [
    {
     "output_type": "error",
     "ename": "NameError",
     "evalue": "name 'score' is not defined",
     "traceback": [
      "\u001b[1;31m---------------------------------------------------------------------------\u001b[0m",
      "\u001b[1;31mNameError\u001b[0m                                 Traceback (most recent call last)",
      "\u001b[1;32m<ipython-input-7-910b6fcb7d45>\u001b[0m in \u001b[0;36m<module>\u001b[1;34m\u001b[0m\n\u001b[1;32m----> 1\u001b[1;33m \u001b[0mprint\u001b[0m\u001b[1;33m(\u001b[0m\u001b[1;34mf'Accuracy {score*100:.2f}%'\u001b[0m\u001b[1;33m)\u001b[0m\u001b[1;33m\u001b[0m\u001b[1;33m\u001b[0m\u001b[0m\n\u001b[0m",
      "\u001b[1;31mNameError\u001b[0m: name 'score' is not defined"
     ]
    }
   ],
   "source": [
    "y_pred = model.predict(X_test)\n",
    "\n",
    "score = balanced_accuracy_score(y_test, y_pred)\n",
    "\n",
    "print(f'Accuracy {score*100:.2f}%')"
   ]
  }
 ],
 "metadata": {
  "kernelspec": {
   "name": "python383jvsc74a57bd0fb2cba9c8868ea03ce4d2334db576975d9ebaa8a871cdaf4e604c2839c34ba1e",
   "display_name": "Python 3.8.3 64-bit ('base': conda)"
  },
  "language_info": {
   "codemirror_mode": {
    "name": "ipython",
    "version": 3
   },
   "file_extension": ".py",
   "mimetype": "text/x-python",
   "name": "python",
   "nbconvert_exporter": "python",
   "pygments_lexer": "ipython3",
   "version": "3.8.3"
  }
 },
 "nbformat": 4,
 "nbformat_minor": 2
}