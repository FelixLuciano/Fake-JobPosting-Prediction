{
 "cells": [
  {
   "cell_type": "markdown",
   "metadata": {},
   "source": [
    "# Predictive model\n",
    "\n",
    "Basically, a predictive model is a mathematical function that, applied to a set of data, can identify hidden patterns, and based on those patterns, make predictions. The purpose of machine learning, Machine Learning, is to \"learn\" the approximation of the function that best represents the relationship between the input attributes, predictor variables, with the output variable, which we want to predict.\n",
    "\n",
    "Machine learning algorithms are mostly divided into 3 types: Supervised Learning, Unsupervised Learning and Reinforcement Learning.\n",
    "\n",
    "\n",
    "## The Process\n",
    "\n",
    "In a simplified way, the process for creating a predictive model is composed by the sequence of activities:\n",
    "\n",
    "1. Data Collection;\n",
    "2. Data Exploration and Preparation;\n",
    "3. Model training;\n",
    "4. Model Evaluation;\n",
    "5. Model optimization;\n",
    "\n",
    "These activities are performed iteratively, modifying parameters, organizing data, obtaining new data, testing algorithms, creating new variables, among others, until you have the ideal model to solve the business problem we are working on.\n",
    "\n",
    "\n",
    "## Data Preparation\n",
    "\n",
    "Normally, the creation of the predictive model itself is very fast compared to the time that the data scientist needs to dedicate to prepare the data set, because the data can come from different sources, in different formats, with errors or requiring manipulations. It is up to us to carry out the activities that will ensure that the predictive model correctly receives the input information. The data preparation step, which we did earlier, is extremely important to ensure the accuracy of our model. Taking for granted that bad input data will generate bad outputs, it must be assumed that we should never neglect this step.\n",
    "\n",
    "\n",
    "## Choice of Predictor Variables\n",
    "\n",
    "We will classify our variables into two types:\n",
    "\n",
    "- **Predictor variables**: are the variables that will be used as input to the predictive model;\n",
    "- **Target variables**: these are the variables we want to predict;\n",
    "\n",
    "As previously mentioned, we want to predict the price of accommodation at an airbnb establishment in New York, NY, based on the data set obtained on the Kaggle website. So our target variable is the price column.\n",
    "\n",
    "Our predictor variables will be: neighborhood_group, neighborhood, latitude, longitude, room_type, number_of_reviews, reviews_per_month, calculated_host_listings_count, availability_365\n",
    "\n",
    "\n",
    "## Spliting Training and Testing\n",
    "\n",
    "We should divide our data set into 2 parts, one for training and the other for testing the predictive model. There is no general rule for dividing the data, we will use an 80/20 division (80% of the data for training and 20% of the data for testing). What we need to be aware of is for the separate sample to reliably represent our entire population of data."
   ]
  },
  {
   "cell_type": "markdown",
   "metadata": {},
   "source": [
    "## Import dependencies"
   ]
  },
  {
   "cell_type": "code",
   "execution_count": 1,
   "metadata": {},
   "outputs": [],
   "source": [
    "# pandas - pandas is a fast, powerful, flexible and easy to use open source data analysis and manipulation tool.\n",
    "import pandas as pd\n",
    "\n",
    "# NumPy - The fundamental package for scientific computing.\n",
    "import numpy as np\n",
    "\n",
    "# matplotlib - A comprehensive library for creating static, animated, and interactive visualizations\n",
    "import matplotlib.pyplot as plt\n",
    "\n",
    "# seaborn - statistical data visualization\n",
    "import seaborn as sns"
   ]
  },
  {
   "cell_type": "markdown",
   "metadata": {},
   "source": [
    "## Preparation of the Dataset"
   ]
  },
  {
   "cell_type": "code",
   "execution_count": 2,
   "metadata": {},
   "outputs": [],
   "source": [
    "path = \"../src/dataset/fake_job_postings.csv\"\n",
    "index_column = \"job_id\"\n",
    "\n",
    "df = pd.read_csv(path, index_col=index_column)\n",
    "df = df.fillna(\"Missing\")\n"
   ]
  },
  {
   "cell_type": "code",
   "execution_count": 3,
   "metadata": {},
   "outputs": [],
   "source": [
    "df['Empresa'] = df['title']  + ' ' + df['company_profile'] + ' ' + df['description'] + ' ' + df['requirements'] + ' ' + df['benefits']"
   ]
  },
  {
   "cell_type": "code",
   "execution_count": 4,
   "metadata": {},
   "outputs": [],
   "source": [
    "del df['title']\n",
    "del df['location']\n",
    "del df['company_profile']\n",
    "del df['description']\n",
    "del df['requirements']\n",
    "del df['benefits']\n",
    "del df['salary_range']"
   ]
  },
  {
   "cell_type": "code",
   "execution_count": 5,
   "metadata": {},
   "outputs": [],
   "source": [
    "df['required_experience'] = df['required_experience'].astype('category') \n",
    "df['required_experience'].cat.categories = [0,1,2,3,4,5,6,7]"
   ]
  },
  {
   "cell_type": "code",
   "execution_count": 6,
   "metadata": {},
   "outputs": [],
   "source": [
    "df['employment_type'] = df['employment_type'].astype('category') \n",
    "df['employment_type'].cat.categories = [0,1,2,3,4,5]"
   ]
  },
  {
   "cell_type": "code",
   "execution_count": 7,
   "metadata": {},
   "outputs": [],
   "source": [
    "df['required_education'] = df['required_education'].astype('category') \n",
    "df['required_education'].cat.categories = list(range(len(df['required_education'].cat.categories)))"
   ]
  },
  {
   "cell_type": "code",
   "execution_count": 8,
   "metadata": {},
   "outputs": [],
   "source": [
    "df['function'] = df['function'].astype('category') \n",
    "df['function'].cat.categories = list(range(len(df['function'].cat.categories)))"
   ]
  },
  {
   "cell_type": "code",
   "execution_count": 9,
   "metadata": {},
   "outputs": [],
   "source": [
    "df['industry'] = df['industry'].astype('category') \n",
    "df['industry'].cat.categories = list(range(len(df['industry'].cat.categories)))"
   ]
  },
  {
   "cell_type": "code",
   "execution_count": 10,
   "metadata": {},
   "outputs": [],
   "source": [
    "df['department'] = df['department'].astype('category') \n",
    "df['department'].cat.categories = list(range(len(df['department'].cat.categories)))"
   ]
  },
  {
   "cell_type": "code",
   "execution_count": 11,
   "metadata": {
    "scrolled": true
   },
   "outputs": [
    {
     "output_type": "execute_result",
     "data": {
      "text/plain": [
       "       department  telecommuting  has_company_logo  has_questions  \\\n",
       "job_id                                                              \n",
       "1             758              0                 1              0   \n",
       "2            1162              0                 1              0   \n",
       "3             793              0                 1              0   \n",
       "4            1055              0                 1              0   \n",
       "5             793              0                 1              1   \n",
       "\n",
       "       employment_type required_experience required_education industry  \\\n",
       "job_id                                                                   \n",
       "1                    3                   4                  6       83   \n",
       "2                    1                   7                  6       75   \n",
       "3                    2                   6                  6       83   \n",
       "4                    1                   5                  1       22   \n",
       "5                    1                   5                  1       51   \n",
       "\n",
       "       function  fraudulent                                            Empresa  \n",
       "job_id                                                                          \n",
       "1            22           0  Marketing Intern We're Food52, and we've creat...  \n",
       "2             7           0  Customer Service - Cloud Video Production 90 S...  \n",
       "3            23           0  Commissioning Machinery Assistant (CMA) Valor ...  \n",
       "4            32           0  Account Executive - Washington DC Our passion ...  \n",
       "5            16           0  Bill Review Manager SpotSource Solutions LLC i...  "
      ],
      "text/html": "<div>\n<style scoped>\n    .dataframe tbody tr th:only-of-type {\n        vertical-align: middle;\n    }\n\n    .dataframe tbody tr th {\n        vertical-align: top;\n    }\n\n    .dataframe thead th {\n        text-align: right;\n    }\n</style>\n<table border=\"1\" class=\"dataframe\">\n  <thead>\n    <tr style=\"text-align: right;\">\n      <th></th>\n      <th>department</th>\n      <th>telecommuting</th>\n      <th>has_company_logo</th>\n      <th>has_questions</th>\n      <th>employment_type</th>\n      <th>required_experience</th>\n      <th>required_education</th>\n      <th>industry</th>\n      <th>function</th>\n      <th>fraudulent</th>\n      <th>Empresa</th>\n    </tr>\n    <tr>\n      <th>job_id</th>\n      <th></th>\n      <th></th>\n      <th></th>\n      <th></th>\n      <th></th>\n      <th></th>\n      <th></th>\n      <th></th>\n      <th></th>\n      <th></th>\n      <th></th>\n    </tr>\n  </thead>\n  <tbody>\n    <tr>\n      <th>1</th>\n      <td>758</td>\n      <td>0</td>\n      <td>1</td>\n      <td>0</td>\n      <td>3</td>\n      <td>4</td>\n      <td>6</td>\n      <td>83</td>\n      <td>22</td>\n      <td>0</td>\n      <td>Marketing Intern We're Food52, and we've creat...</td>\n    </tr>\n    <tr>\n      <th>2</th>\n      <td>1162</td>\n      <td>0</td>\n      <td>1</td>\n      <td>0</td>\n      <td>1</td>\n      <td>7</td>\n      <td>6</td>\n      <td>75</td>\n      <td>7</td>\n      <td>0</td>\n      <td>Customer Service - Cloud Video Production 90 S...</td>\n    </tr>\n    <tr>\n      <th>3</th>\n      <td>793</td>\n      <td>0</td>\n      <td>1</td>\n      <td>0</td>\n      <td>2</td>\n      <td>6</td>\n      <td>6</td>\n      <td>83</td>\n      <td>23</td>\n      <td>0</td>\n      <td>Commissioning Machinery Assistant (CMA) Valor ...</td>\n    </tr>\n    <tr>\n      <th>4</th>\n      <td>1055</td>\n      <td>0</td>\n      <td>1</td>\n      <td>0</td>\n      <td>1</td>\n      <td>5</td>\n      <td>1</td>\n      <td>22</td>\n      <td>32</td>\n      <td>0</td>\n      <td>Account Executive - Washington DC Our passion ...</td>\n    </tr>\n    <tr>\n      <th>5</th>\n      <td>793</td>\n      <td>0</td>\n      <td>1</td>\n      <td>1</td>\n      <td>1</td>\n      <td>5</td>\n      <td>1</td>\n      <td>51</td>\n      <td>16</td>\n      <td>0</td>\n      <td>Bill Review Manager SpotSource Solutions LLC i...</td>\n    </tr>\n  </tbody>\n</table>\n</div>"
     },
     "metadata": {},
     "execution_count": 11
    }
   ],
   "source": [
    "df.head()"
   ]
  },
  {
   "cell_type": "code",
   "execution_count": 12,
   "metadata": {},
   "outputs": [
    {
     "output_type": "stream",
     "name": "stdout",
     "text": [
      "Number of mislabeled points out of a total 8940 points : 190\n"
     ]
    }
   ],
   "source": [
    "from sklearn.naive_bayes import GaussianNB\n",
    "from sklearn.feature_extraction.text import TfidfVectorizer\n",
    "from sklearn.model_selection import train_test_split\n",
    "\n",
    "vectorizer = TfidfVectorizer()\n",
    "X = vectorizer.fit_transform(df['Empresa']).toarray()\n",
    "y = df[\"fraudulent\"]\n",
    "\n",
    "X_train, X_test, y_train, y_test = train_test_split(X, y, test_size=0.5, random_state=0)\n",
    "\n",
    "gnb = GaussianNB()\n",
    "y_pred = gnb.fit(X_train, y_train).predict(X_test)\n",
    "\n",
    "print(\"Number of mislabeled points out of a total %d points : %d\"\n",
    "      % (X_test.shape[0], (y_test != y_pred).sum()))"
   ]
  },
  {
   "cell_type": "code",
   "execution_count": null,
   "metadata": {},
   "outputs": [],
   "source": []
  }
 ],
 "metadata": {
  "kernelspec": {
   "name": "python388jvsc74a57bd0a4fbba76bf68ca5a9f5e167a8117edde5c76f1bba8c77be44626570bb3a6bb2e",
   "display_name": "Python 3.8.8 64-bit ('base': conda)"
  },
  "language_info": {
   "codemirror_mode": {
    "name": "ipython",
    "version": 3
   },
   "file_extension": ".py",
   "mimetype": "text/x-python",
   "name": "python",
   "nbconvert_exporter": "python",
   "pygments_lexer": "ipython3",
   "version": "3.8.8"
  }
 },
 "nbformat": 4,
 "nbformat_minor": 2
}