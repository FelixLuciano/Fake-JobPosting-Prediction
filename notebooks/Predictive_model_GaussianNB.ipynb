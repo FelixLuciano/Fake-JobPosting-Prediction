{
 "metadata": {
  "language_info": {
   "codemirror_mode": {
    "name": "ipython",
    "version": 3
   },
   "file_extension": ".py",
   "mimetype": "text/x-python",
   "name": "python",
   "nbconvert_exporter": "python",
   "pygments_lexer": "ipython3",
   "version": "3.8.3"
  },
  "orig_nbformat": 2,
  "kernelspec": {
   "name": "python383jvsc74a57bd0fb2cba9c8868ea03ce4d2334db576975d9ebaa8a871cdaf4e604c2839c34ba1e",
   "display_name": "Python 3.8.3 64-bit ('base': conda)"
  }
 },
 "nbformat": 4,
 "nbformat_minor": 2,
 "cells": [
  {
   "source": [
    "# Predictive model\n",
    "\n",
    "Basically, a predictive model is a mathematical function that, applied to a set of data, can identify hidden patterns, and based on those patterns, make predictions. The purpose of machine learning, Machine Learning, is to \"learn\" the approximation of the function that best represents the relationship between the input attributes, predictor variables, with the output variable, which we want to predict.\n",
    "\n",
    "Machine learning algorithms are mostly divided into 3 types: Supervised Learning, Unsupervised Learning and Reinforcement Learning.\n",
    "\n",
    "\n",
    "## The Process\n",
    "\n",
    "In a simplified way, the process for creating a predictive model is composed by the sequence of activities:\n",
    "\n",
    "1. Data Collection;\n",
    "2. Data Exploration and Preparation;\n",
    "3. Model training;\n",
    "4. Model Evaluation;\n",
    "5. Model optimization;\n",
    "\n",
    "These activities are performed iteratively, modifying parameters, organizing data, obtaining new data, testing algorithms, creating new variables, among others, until you have the ideal model to solve the business problem we are working on.\n",
    "\n",
    "\n",
    "## Data Preparation\n",
    "\n",
    "Normally, the creation of the predictive model itself is very fast compared to the time that the data scientist needs to dedicate to prepare the data set, because the data can come from different sources, in different formats, with errors or requiring manipulations. It is up to us to carry out the activities that will ensure that the predictive model correctly receives the input information. The data preparation step, which we did earlier, is extremely important to ensure the accuracy of our model. Taking for granted that bad input data will generate bad outputs, it must be assumed that we should never neglect this step.\n",
    "\n",
    "\n",
    "## Choice of Predictor Variables\n",
    "\n",
    "We will classify our variables into two types:\n",
    "\n",
    "- **Predictor variables**: are the variables that will be used as input to the predictive model;\n",
    "- **Target variables**: these are the variables we want to predict;\n",
    "\n",
    "As previously mentioned, we want to predict the price of accommodation at an airbnb establishment in New York, NY, based on the data set obtained on the Kaggle website. So our target variable is the price column.\n",
    "\n",
    "Our predictor variables will be: neighborhood_group, neighborhood, latitude, longitude, room_type, number_of_reviews, reviews_per_month, calculated_host_listings_count, availability_365\n",
    "\n",
    "\n",
    "## Spliting Training and Testing\n",
    "\n",
    "We should divide our data set into 2 parts, one for training and the other for testing the predictive model. There is no general rule for dividing the data, we will use an 80/20 division (80% of the data for training and 20% of the data for testing). What we need to be aware of is for the separate sample to reliably represent our entire population of data."
   ],
   "cell_type": "markdown",
   "metadata": {}
  },
  {
   "source": [
    "## Import dependencies"
   ],
   "cell_type": "markdown",
   "metadata": {}
  },
  {
   "cell_type": "code",
   "execution_count": 2,
   "metadata": {},
   "outputs": [],
   "source": [
    "# pandas - pandas is a fast, powerful, flexible and easy to use open source data analysis and manipulation tool.\n",
    "import pandas as pd\n",
    "\n",
    "# NumPy - The fundamental package for scientific computing.\n",
    "import numpy as np\n",
    "\n",
    "# matplotlib - A comprehensive library for creating static, animated, and interactive visualizations\n",
    "import matplotlib.pyplot as plt\n",
    "\n",
    "# seaborn - statistical data visualization\n",
    "import seaborn as sns"
   ]
  },
  {
   "source": [
    "## Exploration and Preparation of the Dataset\n",
    "\n",
    "Pandas allows us to transform our dataset into a dataframe, which transforms the data into a structure of 2 dimensions, rows and columns, below we can visualize the data in the form of a table.\n",
    "\n",
    "### Columns\n",
    "- **job_id** - Unique Job ID\n",
    "- **title** - The title of the job ad entry.\n",
    "- **location** - Geographical location of the job ad.\n",
    "- **department** - Corporate department (e.g. sales).\n",
    "- **salary_range** - Indicative salary range (e.g. $50,000-$60,000)\n",
    "- **company_profile** - A brief company description.\n",
    "- **description** - The details description of the job ad.\n",
    "- **requirements** - Enlisted requirements for the job opening.\n",
    "- **benefits** - Enlisted offered benefits by the employer.\n",
    "- **telecommuting** - True for telecommuting positions.\n",
    "- **has_company_logo** - True if company logo is present.\n",
    "- **has_questions** - True if screening questions are present.\n",
    "- **employment_type** - Full-type, Part-time, Contract, etc.\n",
    "- **required_experience** - Executive, Entry level, Intern, etc.\n",
    "- **required_education** - Doctorate, Master’s Degree, Bachelor, etc.\n",
    "- **industry** - Automotive, IT, Health care, Real estate, etc.\n",
    "- **function** - Consulting, Engineering, Research, Sales etc.\n",
    "- **fraudulent** - target - Classification attribute."
   ],
   "cell_type": "markdown",
   "metadata": {}
  },
  {
   "cell_type": "code",
   "execution_count": 3,
   "metadata": {},
   "outputs": [],
   "source": [
    "index_column = \"job_id\"\n",
    "\n",
    "dtypes = {\n",
    "    \"title\": \"string\",\n",
    "    \"location\": \"string\",\n",
    "    \"department\": \"string\",\n",
    "    \"salary_range\": \"string\",\n",
    "    \"company_profile\": \"string\",\n",
    "    \"description\": \"string\",\n",
    "    \"requirements\": \"string\",\n",
    "    \"benefits\": \"string\",\n",
    "    \"telecommuting\": \"category\",\n",
    "    \"has_company_logo\": \"category\",\n",
    "    \"has_questions\": \"category\",\n",
    "    \"employment_type\": \"string\",\n",
    "    \"required_experience\": \"string\",\n",
    "    \"required_education\": \"string\",\n",
    "    \"industry\": \"string\",\n",
    "    \"function\": \"string\",\n",
    "    \"fraudulent\": \"category\"\n",
    "}\n",
    "\n",
    "path = \"../src/dataset/fake_job_postings.csv\"\n",
    "\n",
    "df = pd.read_csv(path, index_col=index_column, dtype=dtypes)\n"
   ]
  },
  {
   "cell_type": "code",
   "execution_count": 4,
   "metadata": {},
   "outputs": [
    {
     "output_type": "execute_result",
     "data": {
      "text/plain": [
       "(17880, 17)"
      ]
     },
     "metadata": {},
     "execution_count": 4
    }
   ],
   "source": [
    "df.shape"
   ]
  },
  {
   "cell_type": "code",
   "execution_count": 5,
   "metadata": {},
   "outputs": [],
   "source": [
    "categories = {\n",
    "    \"telecommuting\": [\"no\", \"yes\"],\n",
    "    \"has_company_logo\": [\"no\", \"yes\"],\n",
    "    \"has_questions\": [\"no\", \"yes\"],\n",
    "    \"fraudulent\": [\"no\", \"yes\"]\n",
    "}\n",
    "\n",
    "for column, column_categories in categories.items():\n",
    "    df[column].cat.categories = column_categories\n"
   ]
  },
  {
   "cell_type": "code",
   "execution_count": 6,
   "metadata": {},
   "outputs": [
    {
     "output_type": "execute_result",
     "data": {
      "text/plain": [
       "                                                    title  \\\n",
       "job_id                                                      \n",
       "1                                        Marketing Intern   \n",
       "2               Customer Service - Cloud Video Production   \n",
       "3                 Commissioning Machinery Assistant (CMA)   \n",
       "4                       Account Executive - Washington DC   \n",
       "5                                     Bill Review Manager   \n",
       "...                                                   ...   \n",
       "17876                    Account Director - Distribution    \n",
       "17877                                  Payroll Accountant   \n",
       "17878   Project Cost Control Staff Engineer - Cost Con...   \n",
       "17879                                    Graphic Designer   \n",
       "17880                          Web Application Developers   \n",
       "\n",
       "                    location   department salary_range  \\\n",
       "job_id                                                   \n",
       "1           US, NY, New York    Marketing         <NA>   \n",
       "2             NZ, , Auckland      Success         <NA>   \n",
       "3              US, IA, Wever         <NA>         <NA>   \n",
       "4         US, DC, Washington        Sales         <NA>   \n",
       "5         US, FL, Fort Worth         <NA>         <NA>   \n",
       "...                      ...          ...          ...   \n",
       "17876        CA, ON, Toronto        Sales         <NA>   \n",
       "17877   US, PA, Philadelphia   Accounting         <NA>   \n",
       "17878        US, TX, Houston         <NA>         <NA>   \n",
       "17879          NG, LA, Lagos         <NA>         <NA>   \n",
       "17880      NZ, N, Wellington  Engineering         <NA>   \n",
       "\n",
       "                                          company_profile  \\\n",
       "job_id                                                      \n",
       "1       We're Food52, and we've created a groundbreaki...   \n",
       "2       90 Seconds, the worlds Cloud Video Production ...   \n",
       "3       Valor Services provides Workforce Solutions th...   \n",
       "4       Our passion for improving quality of life thro...   \n",
       "5       SpotSource Solutions LLC is a Global Human Cap...   \n",
       "...                                                   ...   \n",
       "17876   Vend is looking for some awesome new talent to...   \n",
       "17877   WebLinc is the e-commerce platform and service...   \n",
       "17878   We Provide Full Time Permanent Positions for m...   \n",
       "17879                                                <NA>   \n",
       "17880   Vend is looking for some awesome new talent to...   \n",
       "\n",
       "                                              description  \\\n",
       "job_id                                                      \n",
       "1       Food52, a fast-growing, James Beard Award-winn...   \n",
       "2       Organised - Focused - Vibrant - Awesome!Do you...   \n",
       "3       Our client, located in Houston, is actively se...   \n",
       "4       THE COMPANY: ESRI – Environmental Systems Rese...   \n",
       "5       JOB TITLE: Itemization Review ManagerLOCATION:...   \n",
       "...                                                   ...   \n",
       "17876   Just in case this is the first time you’ve vis...   \n",
       "17877   The Payroll Accountant will focus primarily on...   \n",
       "17878   Experienced Project Cost Control Staff Enginee...   \n",
       "17879   Nemsia Studios is looking for an experienced v...   \n",
       "17880   Who are we?Vend is an award winning web based ...   \n",
       "\n",
       "                                             requirements  \\\n",
       "job_id                                                      \n",
       "1       Experience with content management systems a m...   \n",
       "2       What we expect from you:Your key responsibilit...   \n",
       "3       Implement pre-commissioning and commissioning ...   \n",
       "4       EDUCATION: Bachelor’s or Master’s in GIS, busi...   \n",
       "5       QUALIFICATIONS:RN license in the State of Texa...   \n",
       "...                                                   ...   \n",
       "17876   To ace this role you:Will eat comprehensive St...   \n",
       "17877   - B.A. or B.S. in Accounting- Desire to have f...   \n",
       "17878   At least 12 years professional experience.Abil...   \n",
       "17879   1. Must be fluent in the latest versions of Co...   \n",
       "17880   We want to hear from you if:You have an in-dep...   \n",
       "\n",
       "                                                 benefits telecommuting  \\\n",
       "job_id                                                                    \n",
       "1                                                    <NA>            no   \n",
       "2       What you will get from usThrough being part of...            no   \n",
       "3                                                    <NA>            no   \n",
       "4       Our culture is anything but corporate—we have ...            no   \n",
       "5                                   Full Benefits Offered            no   \n",
       "...                                                   ...           ...   \n",
       "17876   What can you expect from us?We have an open cu...            no   \n",
       "17877   Health &amp; WellnessMedical planPrescription ...            no   \n",
       "17878                                                <NA>            no   \n",
       "17879   Competitive salary (compensation will be based...            no   \n",
       "17880                                                <NA>            no   \n",
       "\n",
       "       has_company_logo has_questions employment_type required_experience  \\\n",
       "job_id                                                                      \n",
       "1                   yes            no           Other          Internship   \n",
       "2                   yes            no       Full-time      Not Applicable   \n",
       "3                   yes            no            <NA>                <NA>   \n",
       "4                   yes            no       Full-time    Mid-Senior level   \n",
       "5                   yes           yes       Full-time    Mid-Senior level   \n",
       "...                 ...           ...             ...                 ...   \n",
       "17876               yes           yes       Full-time    Mid-Senior level   \n",
       "17877               yes           yes       Full-time    Mid-Senior level   \n",
       "17878                no            no       Full-time                <NA>   \n",
       "17879                no           yes        Contract      Not Applicable   \n",
       "17880               yes           yes       Full-time    Mid-Senior level   \n",
       "\n",
       "       required_education                   industry              function  \\\n",
       "job_id                                                                       \n",
       "1                    <NA>                       <NA>             Marketing   \n",
       "2                    <NA>  Marketing and Advertising      Customer Service   \n",
       "3                    <NA>                       <NA>                  <NA>   \n",
       "4       Bachelor's Degree          Computer Software                 Sales   \n",
       "5       Bachelor's Degree     Hospital & Health Care  Health Care Provider   \n",
       "...                   ...                        ...                   ...   \n",
       "17876                <NA>          Computer Software                 Sales   \n",
       "17877   Bachelor's Degree                   Internet   Accounting/Auditing   \n",
       "17878                <NA>                       <NA>                  <NA>   \n",
       "17879        Professional             Graphic Design                Design   \n",
       "17880                <NA>          Computer Software           Engineering   \n",
       "\n",
       "       fraudulent  \n",
       "job_id             \n",
       "1              no  \n",
       "2              no  \n",
       "3              no  \n",
       "4              no  \n",
       "5              no  \n",
       "...           ...  \n",
       "17876          no  \n",
       "17877          no  \n",
       "17878          no  \n",
       "17879          no  \n",
       "17880          no  \n",
       "\n",
       "[17880 rows x 17 columns]"
      ],
      "text/html": "<div>\n<style scoped>\n    .dataframe tbody tr th:only-of-type {\n        vertical-align: middle;\n    }\n\n    .dataframe tbody tr th {\n        vertical-align: top;\n    }\n\n    .dataframe thead th {\n        text-align: right;\n    }\n</style>\n<table border=\"1\" class=\"dataframe\">\n  <thead>\n    <tr style=\"text-align: right;\">\n      <th></th>\n      <th>title</th>\n      <th>location</th>\n      <th>department</th>\n      <th>salary_range</th>\n      <th>company_profile</th>\n      <th>description</th>\n      <th>requirements</th>\n      <th>benefits</th>\n      <th>telecommuting</th>\n      <th>has_company_logo</th>\n      <th>has_questions</th>\n      <th>employment_type</th>\n      <th>required_experience</th>\n      <th>required_education</th>\n      <th>industry</th>\n      <th>function</th>\n      <th>fraudulent</th>\n    </tr>\n    <tr>\n      <th>job_id</th>\n      <th></th>\n      <th></th>\n      <th></th>\n      <th></th>\n      <th></th>\n      <th></th>\n      <th></th>\n      <th></th>\n      <th></th>\n      <th></th>\n      <th></th>\n      <th></th>\n      <th></th>\n      <th></th>\n      <th></th>\n      <th></th>\n      <th></th>\n    </tr>\n  </thead>\n  <tbody>\n    <tr>\n      <th>1</th>\n      <td>Marketing Intern</td>\n      <td>US, NY, New York</td>\n      <td>Marketing</td>\n      <td>&lt;NA&gt;</td>\n      <td>We're Food52, and we've created a groundbreaki...</td>\n      <td>Food52, a fast-growing, James Beard Award-winn...</td>\n      <td>Experience with content management systems a m...</td>\n      <td>&lt;NA&gt;</td>\n      <td>no</td>\n      <td>yes</td>\n      <td>no</td>\n      <td>Other</td>\n      <td>Internship</td>\n      <td>&lt;NA&gt;</td>\n      <td>&lt;NA&gt;</td>\n      <td>Marketing</td>\n      <td>no</td>\n    </tr>\n    <tr>\n      <th>2</th>\n      <td>Customer Service - Cloud Video Production</td>\n      <td>NZ, , Auckland</td>\n      <td>Success</td>\n      <td>&lt;NA&gt;</td>\n      <td>90 Seconds, the worlds Cloud Video Production ...</td>\n      <td>Organised - Focused - Vibrant - Awesome!Do you...</td>\n      <td>What we expect from you:Your key responsibilit...</td>\n      <td>What you will get from usThrough being part of...</td>\n      <td>no</td>\n      <td>yes</td>\n      <td>no</td>\n      <td>Full-time</td>\n      <td>Not Applicable</td>\n      <td>&lt;NA&gt;</td>\n      <td>Marketing and Advertising</td>\n      <td>Customer Service</td>\n      <td>no</td>\n    </tr>\n    <tr>\n      <th>3</th>\n      <td>Commissioning Machinery Assistant (CMA)</td>\n      <td>US, IA, Wever</td>\n      <td>&lt;NA&gt;</td>\n      <td>&lt;NA&gt;</td>\n      <td>Valor Services provides Workforce Solutions th...</td>\n      <td>Our client, located in Houston, is actively se...</td>\n      <td>Implement pre-commissioning and commissioning ...</td>\n      <td>&lt;NA&gt;</td>\n      <td>no</td>\n      <td>yes</td>\n      <td>no</td>\n      <td>&lt;NA&gt;</td>\n      <td>&lt;NA&gt;</td>\n      <td>&lt;NA&gt;</td>\n      <td>&lt;NA&gt;</td>\n      <td>&lt;NA&gt;</td>\n      <td>no</td>\n    </tr>\n    <tr>\n      <th>4</th>\n      <td>Account Executive - Washington DC</td>\n      <td>US, DC, Washington</td>\n      <td>Sales</td>\n      <td>&lt;NA&gt;</td>\n      <td>Our passion for improving quality of life thro...</td>\n      <td>THE COMPANY: ESRI – Environmental Systems Rese...</td>\n      <td>EDUCATION: Bachelor’s or Master’s in GIS, busi...</td>\n      <td>Our culture is anything but corporate—we have ...</td>\n      <td>no</td>\n      <td>yes</td>\n      <td>no</td>\n      <td>Full-time</td>\n      <td>Mid-Senior level</td>\n      <td>Bachelor's Degree</td>\n      <td>Computer Software</td>\n      <td>Sales</td>\n      <td>no</td>\n    </tr>\n    <tr>\n      <th>5</th>\n      <td>Bill Review Manager</td>\n      <td>US, FL, Fort Worth</td>\n      <td>&lt;NA&gt;</td>\n      <td>&lt;NA&gt;</td>\n      <td>SpotSource Solutions LLC is a Global Human Cap...</td>\n      <td>JOB TITLE: Itemization Review ManagerLOCATION:...</td>\n      <td>QUALIFICATIONS:RN license in the State of Texa...</td>\n      <td>Full Benefits Offered</td>\n      <td>no</td>\n      <td>yes</td>\n      <td>yes</td>\n      <td>Full-time</td>\n      <td>Mid-Senior level</td>\n      <td>Bachelor's Degree</td>\n      <td>Hospital &amp; Health Care</td>\n      <td>Health Care Provider</td>\n      <td>no</td>\n    </tr>\n    <tr>\n      <th>...</th>\n      <td>...</td>\n      <td>...</td>\n      <td>...</td>\n      <td>...</td>\n      <td>...</td>\n      <td>...</td>\n      <td>...</td>\n      <td>...</td>\n      <td>...</td>\n      <td>...</td>\n      <td>...</td>\n      <td>...</td>\n      <td>...</td>\n      <td>...</td>\n      <td>...</td>\n      <td>...</td>\n      <td>...</td>\n    </tr>\n    <tr>\n      <th>17876</th>\n      <td>Account Director - Distribution</td>\n      <td>CA, ON, Toronto</td>\n      <td>Sales</td>\n      <td>&lt;NA&gt;</td>\n      <td>Vend is looking for some awesome new talent to...</td>\n      <td>Just in case this is the first time you’ve vis...</td>\n      <td>To ace this role you:Will eat comprehensive St...</td>\n      <td>What can you expect from us?We have an open cu...</td>\n      <td>no</td>\n      <td>yes</td>\n      <td>yes</td>\n      <td>Full-time</td>\n      <td>Mid-Senior level</td>\n      <td>&lt;NA&gt;</td>\n      <td>Computer Software</td>\n      <td>Sales</td>\n      <td>no</td>\n    </tr>\n    <tr>\n      <th>17877</th>\n      <td>Payroll Accountant</td>\n      <td>US, PA, Philadelphia</td>\n      <td>Accounting</td>\n      <td>&lt;NA&gt;</td>\n      <td>WebLinc is the e-commerce platform and service...</td>\n      <td>The Payroll Accountant will focus primarily on...</td>\n      <td>- B.A. or B.S. in Accounting- Desire to have f...</td>\n      <td>Health &amp;amp; WellnessMedical planPrescription ...</td>\n      <td>no</td>\n      <td>yes</td>\n      <td>yes</td>\n      <td>Full-time</td>\n      <td>Mid-Senior level</td>\n      <td>Bachelor's Degree</td>\n      <td>Internet</td>\n      <td>Accounting/Auditing</td>\n      <td>no</td>\n    </tr>\n    <tr>\n      <th>17878</th>\n      <td>Project Cost Control Staff Engineer - Cost Con...</td>\n      <td>US, TX, Houston</td>\n      <td>&lt;NA&gt;</td>\n      <td>&lt;NA&gt;</td>\n      <td>We Provide Full Time Permanent Positions for m...</td>\n      <td>Experienced Project Cost Control Staff Enginee...</td>\n      <td>At least 12 years professional experience.Abil...</td>\n      <td>&lt;NA&gt;</td>\n      <td>no</td>\n      <td>no</td>\n      <td>no</td>\n      <td>Full-time</td>\n      <td>&lt;NA&gt;</td>\n      <td>&lt;NA&gt;</td>\n      <td>&lt;NA&gt;</td>\n      <td>&lt;NA&gt;</td>\n      <td>no</td>\n    </tr>\n    <tr>\n      <th>17879</th>\n      <td>Graphic Designer</td>\n      <td>NG, LA, Lagos</td>\n      <td>&lt;NA&gt;</td>\n      <td>&lt;NA&gt;</td>\n      <td>&lt;NA&gt;</td>\n      <td>Nemsia Studios is looking for an experienced v...</td>\n      <td>1. Must be fluent in the latest versions of Co...</td>\n      <td>Competitive salary (compensation will be based...</td>\n      <td>no</td>\n      <td>no</td>\n      <td>yes</td>\n      <td>Contract</td>\n      <td>Not Applicable</td>\n      <td>Professional</td>\n      <td>Graphic Design</td>\n      <td>Design</td>\n      <td>no</td>\n    </tr>\n    <tr>\n      <th>17880</th>\n      <td>Web Application Developers</td>\n      <td>NZ, N, Wellington</td>\n      <td>Engineering</td>\n      <td>&lt;NA&gt;</td>\n      <td>Vend is looking for some awesome new talent to...</td>\n      <td>Who are we?Vend is an award winning web based ...</td>\n      <td>We want to hear from you if:You have an in-dep...</td>\n      <td>&lt;NA&gt;</td>\n      <td>no</td>\n      <td>yes</td>\n      <td>yes</td>\n      <td>Full-time</td>\n      <td>Mid-Senior level</td>\n      <td>&lt;NA&gt;</td>\n      <td>Computer Software</td>\n      <td>Engineering</td>\n      <td>no</td>\n    </tr>\n  </tbody>\n</table>\n<p>17880 rows × 17 columns</p>\n</div>"
     },
     "metadata": {},
     "execution_count": 6
    }
   ],
   "source": [
    "df"
   ]
  },
  {
   "source": [
    "## Fill empty values\n",
    "\n",
    "A very common problem that we encounter when working with large data sets is the existence of null or unfilled values, which can exist due to filling errors, errors in the import and transformation of the data, non-existence of the information, or any other reason.\n",
    "\n",
    "The treatment that will be for the null values depends on our objective with the data analysis. We can leave the values null if they do not negatively impact our analysis. We can delete the entire line that has a null value. We can even fill in the null values with a specific value. In this context, there are countless ways to treat null values, but we must always keep our objective in mind when analyzing data to decide which approach to use.\n",
    "\n",
    "We will analyze the null values of each column and create a strategy of which variables we will keep null and which ones we will fill with values.\n"
   ],
   "cell_type": "markdown",
   "metadata": {}
  },
  {
   "cell_type": "code",
   "execution_count": 7,
   "metadata": {},
   "outputs": [
    {
     "output_type": "execute_result",
     "data": {
      "text/plain": [
       "title                      0\n",
       "location                 346\n",
       "department             11547\n",
       "salary_range           15012\n",
       "company_profile         3308\n",
       "description                1\n",
       "requirements            2695\n",
       "benefits                7210\n",
       "telecommuting              0\n",
       "has_company_logo           0\n",
       "has_questions              0\n",
       "employment_type         3471\n",
       "required_experience     7050\n",
       "required_education      8105\n",
       "industry                4903\n",
       "function                6455\n",
       "fraudulent                 0\n",
       "dtype: int64"
      ]
     },
     "metadata": {},
     "execution_count": 7
    }
   ],
   "source": [
    "df.isnull().sum()"
   ]
  },
  {
   "cell_type": "code",
   "execution_count": 5,
   "metadata": {},
   "outputs": [],
   "source": [
    "fillna = {\n",
    "    \"title\": \"Missing\",\n",
    "    \"location\": \"Missing\",\n",
    "    \"department\": \"Missing\",\n",
    "    \"salary_range\": \"Missing\",\n",
    "    \"company_profile\": \"Missing\",\n",
    "    \"description\": \"Missing\",\n",
    "    \"requirements\": \"Missing\",\n",
    "    \"benefits\": \"Missing\",\n",
    "    \"employment_type\": \"Missing\",\n",
    "    \"required_experience\": \"Missing\",\n",
    "    \"required_education\": \"Missing\",\n",
    "    \"industry\": \"Missing\",\n",
    "    \"function\": \"Missing\",\n",
    "}\n",
    "\n",
    "for column, column_fillna in fillna.items():\n",
    "    df[column] = df[column].fillna(column_fillna)\n"
   ]
  },
  {
   "cell_type": "code",
   "execution_count": 6,
   "metadata": {},
   "outputs": [
    {
     "output_type": "error",
     "ename": "MemoryError",
     "evalue": "Unable to allocate 4.15 GiB for an array with shape (8940, 62254) and data type float64",
     "traceback": [
      "\u001b[1;31m---------------------------------------------------------------------------\u001b[0m",
      "\u001b[1;31mMemoryError\u001b[0m                               Traceback (most recent call last)",
      "\u001b[1;32m<ipython-input-6-d3fe60dedc68>\u001b[0m in \u001b[0;36m<module>\u001b[1;34m\u001b[0m\n\u001b[0;32m     10\u001b[0m \u001b[1;33m\u001b[0m\u001b[0m\n\u001b[0;32m     11\u001b[0m \u001b[0mgnb\u001b[0m \u001b[1;33m=\u001b[0m \u001b[0mGaussianNB\u001b[0m\u001b[1;33m(\u001b[0m\u001b[1;33m)\u001b[0m\u001b[1;33m\u001b[0m\u001b[1;33m\u001b[0m\u001b[0m\n\u001b[1;32m---> 12\u001b[1;33m \u001b[0my_pred\u001b[0m \u001b[1;33m=\u001b[0m \u001b[0mgnb\u001b[0m\u001b[1;33m.\u001b[0m\u001b[0mfit\u001b[0m\u001b[1;33m(\u001b[0m\u001b[0mX_train\u001b[0m\u001b[1;33m,\u001b[0m \u001b[0my_train\u001b[0m\u001b[1;33m)\u001b[0m\u001b[1;33m.\u001b[0m\u001b[0mpredict\u001b[0m\u001b[1;33m(\u001b[0m\u001b[0mX_test\u001b[0m\u001b[1;33m)\u001b[0m\u001b[1;33m\u001b[0m\u001b[1;33m\u001b[0m\u001b[0m\n\u001b[0m\u001b[0;32m     13\u001b[0m \u001b[1;33m\u001b[0m\u001b[0m\n\u001b[0;32m     14\u001b[0m print(\"Number of mislabeled points out of a total %d points : %d\"\n",
      "\u001b[1;32m~\\anaconda3\\lib\\site-packages\\sklearn\\naive_bayes.py\u001b[0m in \u001b[0;36mfit\u001b[1;34m(self, X, y, sample_weight)\u001b[0m\n\u001b[0;32m    210\u001b[0m         \u001b[0mX\u001b[0m\u001b[1;33m,\u001b[0m \u001b[0my\u001b[0m \u001b[1;33m=\u001b[0m \u001b[0mself\u001b[0m\u001b[1;33m.\u001b[0m\u001b[0m_validate_data\u001b[0m\u001b[1;33m(\u001b[0m\u001b[0mX\u001b[0m\u001b[1;33m,\u001b[0m \u001b[0my\u001b[0m\u001b[1;33m)\u001b[0m\u001b[1;33m\u001b[0m\u001b[1;33m\u001b[0m\u001b[0m\n\u001b[0;32m    211\u001b[0m         \u001b[0my\u001b[0m \u001b[1;33m=\u001b[0m \u001b[0mcolumn_or_1d\u001b[0m\u001b[1;33m(\u001b[0m\u001b[0my\u001b[0m\u001b[1;33m,\u001b[0m \u001b[0mwarn\u001b[0m\u001b[1;33m=\u001b[0m\u001b[1;32mTrue\u001b[0m\u001b[1;33m)\u001b[0m\u001b[1;33m\u001b[0m\u001b[1;33m\u001b[0m\u001b[0m\n\u001b[1;32m--> 212\u001b[1;33m         return self._partial_fit(X, y, np.unique(y), _refit=True,\n\u001b[0m\u001b[0;32m    213\u001b[0m                                  sample_weight=sample_weight)\n\u001b[0;32m    214\u001b[0m \u001b[1;33m\u001b[0m\u001b[0m\n",
      "\u001b[1;32m~\\anaconda3\\lib\\site-packages\\sklearn\\naive_bayes.py\u001b[0m in \u001b[0;36m_partial_fit\u001b[1;34m(self, X, y, classes, _refit, sample_weight)\u001b[0m\n\u001b[0;32m    370\u001b[0m         \u001b[1;31m# boost the variance by epsilon, a small fraction of the standard\u001b[0m\u001b[1;33m\u001b[0m\u001b[1;33m\u001b[0m\u001b[1;33m\u001b[0m\u001b[0m\n\u001b[0;32m    371\u001b[0m         \u001b[1;31m# deviation of the largest dimension.\u001b[0m\u001b[1;33m\u001b[0m\u001b[1;33m\u001b[0m\u001b[1;33m\u001b[0m\u001b[0m\n\u001b[1;32m--> 372\u001b[1;33m         \u001b[0mself\u001b[0m\u001b[1;33m.\u001b[0m\u001b[0mepsilon_\u001b[0m \u001b[1;33m=\u001b[0m \u001b[0mself\u001b[0m\u001b[1;33m.\u001b[0m\u001b[0mvar_smoothing\u001b[0m \u001b[1;33m*\u001b[0m \u001b[0mnp\u001b[0m\u001b[1;33m.\u001b[0m\u001b[0mvar\u001b[0m\u001b[1;33m(\u001b[0m\u001b[0mX\u001b[0m\u001b[1;33m,\u001b[0m \u001b[0maxis\u001b[0m\u001b[1;33m=\u001b[0m\u001b[1;36m0\u001b[0m\u001b[1;33m)\u001b[0m\u001b[1;33m.\u001b[0m\u001b[0mmax\u001b[0m\u001b[1;33m(\u001b[0m\u001b[1;33m)\u001b[0m\u001b[1;33m\u001b[0m\u001b[1;33m\u001b[0m\u001b[0m\n\u001b[0m\u001b[0;32m    373\u001b[0m \u001b[1;33m\u001b[0m\u001b[0m\n\u001b[0;32m    374\u001b[0m         \u001b[1;32mif\u001b[0m \u001b[0m_refit\u001b[0m\u001b[1;33m:\u001b[0m\u001b[1;33m\u001b[0m\u001b[1;33m\u001b[0m\u001b[0m\n",
      "\u001b[1;32m<__array_function__ internals>\u001b[0m in \u001b[0;36mvar\u001b[1;34m(*args, **kwargs)\u001b[0m\n",
      "\u001b[1;32m~\\anaconda3\\lib\\site-packages\\numpy\\core\\fromnumeric.py\u001b[0m in \u001b[0;36mvar\u001b[1;34m(a, axis, dtype, out, ddof, keepdims)\u001b[0m\n\u001b[0;32m   3581\u001b[0m             \u001b[1;32mreturn\u001b[0m \u001b[0mvar\u001b[0m\u001b[1;33m(\u001b[0m\u001b[0maxis\u001b[0m\u001b[1;33m=\u001b[0m\u001b[0maxis\u001b[0m\u001b[1;33m,\u001b[0m \u001b[0mdtype\u001b[0m\u001b[1;33m=\u001b[0m\u001b[0mdtype\u001b[0m\u001b[1;33m,\u001b[0m \u001b[0mout\u001b[0m\u001b[1;33m=\u001b[0m\u001b[0mout\u001b[0m\u001b[1;33m,\u001b[0m \u001b[0mddof\u001b[0m\u001b[1;33m=\u001b[0m\u001b[0mddof\u001b[0m\u001b[1;33m,\u001b[0m \u001b[1;33m**\u001b[0m\u001b[0mkwargs\u001b[0m\u001b[1;33m)\u001b[0m\u001b[1;33m\u001b[0m\u001b[1;33m\u001b[0m\u001b[0m\n\u001b[0;32m   3582\u001b[0m \u001b[1;33m\u001b[0m\u001b[0m\n\u001b[1;32m-> 3583\u001b[1;33m     return _methods._var(a, axis=axis, dtype=dtype, out=out, ddof=ddof,\n\u001b[0m\u001b[0;32m   3584\u001b[0m                          **kwargs)\n\u001b[0;32m   3585\u001b[0m \u001b[1;33m\u001b[0m\u001b[0m\n",
      "\u001b[1;32m~\\anaconda3\\lib\\site-packages\\numpy\\core\\_methods.py\u001b[0m in \u001b[0;36m_var\u001b[1;34m(a, axis, dtype, out, ddof, keepdims)\u001b[0m\n\u001b[0;32m    191\u001b[0m     \u001b[1;31m# Note that x may not be inexact and that we need it to be an array,\u001b[0m\u001b[1;33m\u001b[0m\u001b[1;33m\u001b[0m\u001b[1;33m\u001b[0m\u001b[0m\n\u001b[0;32m    192\u001b[0m     \u001b[1;31m# not a scalar.\u001b[0m\u001b[1;33m\u001b[0m\u001b[1;33m\u001b[0m\u001b[1;33m\u001b[0m\u001b[0m\n\u001b[1;32m--> 193\u001b[1;33m     \u001b[0mx\u001b[0m \u001b[1;33m=\u001b[0m \u001b[0masanyarray\u001b[0m\u001b[1;33m(\u001b[0m\u001b[0marr\u001b[0m \u001b[1;33m-\u001b[0m \u001b[0marrmean\u001b[0m\u001b[1;33m)\u001b[0m\u001b[1;33m\u001b[0m\u001b[1;33m\u001b[0m\u001b[0m\n\u001b[0m\u001b[0;32m    194\u001b[0m     \u001b[1;32mif\u001b[0m \u001b[0missubclass\u001b[0m\u001b[1;33m(\u001b[0m\u001b[0marr\u001b[0m\u001b[1;33m.\u001b[0m\u001b[0mdtype\u001b[0m\u001b[1;33m.\u001b[0m\u001b[0mtype\u001b[0m\u001b[1;33m,\u001b[0m \u001b[1;33m(\u001b[0m\u001b[0mnt\u001b[0m\u001b[1;33m.\u001b[0m\u001b[0mfloating\u001b[0m\u001b[1;33m,\u001b[0m \u001b[0mnt\u001b[0m\u001b[1;33m.\u001b[0m\u001b[0minteger\u001b[0m\u001b[1;33m)\u001b[0m\u001b[1;33m)\u001b[0m\u001b[1;33m:\u001b[0m\u001b[1;33m\u001b[0m\u001b[1;33m\u001b[0m\u001b[0m\n\u001b[0;32m    195\u001b[0m         \u001b[0mx\u001b[0m \u001b[1;33m=\u001b[0m \u001b[0mum\u001b[0m\u001b[1;33m.\u001b[0m\u001b[0mmultiply\u001b[0m\u001b[1;33m(\u001b[0m\u001b[0mx\u001b[0m\u001b[1;33m,\u001b[0m \u001b[0mx\u001b[0m\u001b[1;33m,\u001b[0m \u001b[0mout\u001b[0m\u001b[1;33m=\u001b[0m\u001b[0mx\u001b[0m\u001b[1;33m)\u001b[0m\u001b[1;33m\u001b[0m\u001b[1;33m\u001b[0m\u001b[0m\n",
      "\u001b[1;31mMemoryError\u001b[0m: Unable to allocate 4.15 GiB for an array with shape (8940, 62254) and data type float64"
     ]
    }
   ],
   "source": [
    "from sklearn.naive_bayes import GaussianNB\r\n",
    "from sklearn.feature_extraction.text import TfidfVectorizer\r\n",
    "from sklearn.model_selection import train_test_split\r\n",
    "\r\n",
    "vectorizer = TfidfVectorizer()\r\n",
    "X = vectorizer.fit_transform(df[\"description\"]).toarray()\r\n",
    "y = df[\"fraudulent\"]\r\n",
    "\r\n",
    "X_train, X_test, y_train, y_test = train_test_split(X, y, test_size=0.5, random_state=0)\r\n",
    "\r\n",
    "gnb = GaussianNB()\r\n",
    "y_pred = gnb.fit(X_train, y_train).predict(X_test)\r\n",
    "\r\n",
    "print(\"Number of mislabeled points out of a total %d points : %d\"\r\n",
    "      % (X_test.shape[0], (y_test != y_pred).sum()))"
   ]
  },
  {
   "cell_type": "code",
   "execution_count": null,
   "metadata": {},
   "outputs": [],
   "source": [
    "print(y_train.value_counts(normalize=True))\n",
    "print(y_test.value_counts(normalize=True))\n",
    "print(y.value_counts(normalize=True))"
   ]
  }
 ]
}